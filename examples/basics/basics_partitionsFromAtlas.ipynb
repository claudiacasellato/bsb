{
 "cells": [
  {
   "cell_type": "markdown",
   "metadata": {},
   "source": [
    "# Explore configuration file json "
   ]
  },
  {
   "cell_type": "code",
   "execution_count": 2,
   "metadata": {},
   "outputs": [],
   "source": [
    "from bsb.topology.partition import NrrdVoxels\n",
    "\n",
    "voxels = NrrdVoxels(source=\"annotation_25.nrrd\", voxel_size=25)\n",
    "vs = voxels.get_voxelset()\n",
    "print(vs)\n",
    "print(vs.data)"
   ]
  },
  {
   "cell_type": "markdown",
   "metadata": {},
   "source": [
    "# Create storage object to store the network in"
   ]
  },
  {
   "cell_type": "code",
   "execution_count": 5,
   "metadata": {},
   "outputs": [],
   "source": [
    "from bsb.storage import Storage\n",
    "from bsb.config import from_json\n",
    "from bsb.core import Scaffold\n",
    "from bsb.morphologies import Morphology\n",
    "import h5py    \n",
    "\n",
    "# Load a configuration from file\n",
    "config = from_json(\"netConfig.json\")\n",
    "# Create storage object to store the network in\n",
    "storage = Storage(\"hdf5\", \"V1.hdf5\")\n",
    "network = Scaffold(config, storage)\n",
    "\n",
    "print(network.__dict__.keys())\n"
   ]
  },
  {
   "cell_type": "markdown",
   "metadata": {},
   "source": [
    "# Create a Morphology repo in the storage object\n",
    "starting from .swc or .asc files available in a local folder morphologies/"
   ]
  },
  {
   "cell_type": "code",
   "execution_count": 6,
   "metadata": {},
   "outputs": [],
   "source": [
    "# Create the morphology subfolder in the storage object \n",
    "network.morphologies.save(\"cellB\", Morphology.from_swc(\"morphologies/cellB.swc\"))\n",
    "network.morphologies.save(\"cellA\",  Morphology.from_swc(\"morphologies/cellA.swc\"))\n",
    "network.morphologies.save(\"cellC\",    Morphology.from_swc(\"morphologies/cellC.swc\"))\n",
    "network.morphologies.save(\"interneuronA\", Morphology.from_swc(\"morphologies/interneuronA.swc\"))\n",
    "network.morphologies.save(\"interneuronB\", Morphology.from_swc(\"morphologies/interneuronB.swc\"))\n",
    "\n",
    "#check a certain cell is in the Morphology repo\n",
    "network.morphologies.has(\"cellB\")\n",
    "\n",
    "# plot one of the cell morphologies\n",
    "from bsb.plotting import plot_morphology\n",
    "cellB = network.load_morphologies(\"cellB\")\n",
    "plot_morphology(cellB)\n",
    "\n"
   ]
  },
  {
   "cell_type": "markdown",
   "metadata": {},
   "source": [
    "# Compile (reconstruction) the network \n",
    "(here only the placement is defined,  not the connectivity)"
   ]
  },
  {
   "cell_type": "code",
   "execution_count": 16,
   "metadata": {},
   "outputs": [],
   "source": [
    "import bsb.options\n",
    "\n",
    "network.compile(bsb.options.verbosity==4, clear=True)"
   ]
  },
  {
   "cell_type": "markdown",
   "metadata": {},
   "source": [
    "# Plot the 3D network with placed neurons "
   ]
  },
  {
   "cell_type": "code",
   "execution_count": 17,
   "metadata": {},
   "outputs": [],
   "source": [
    "from bsb.plotting import plot_network\n",
    "plot_network(network)"
   ]
  },
  {
   "cell_type": "markdown",
   "metadata": {},
   "source": [
    "# Another option to create the own project on bsb"
   ]
  },
  {
   "cell_type": "code",
   "execution_count": null,
   "metadata": {},
   "outputs": [],
   "source": [
    "!bsb new my_first_model --quickstart"
   ]
  }
 ],
 "metadata": {
  "kernelspec": {
   "display_name": "bsb-contrib",
   "language": "python",
   "name": "bsb-contrib"
  },
  "language_info": {
   "codemirror_mode": {
    "name": "ipython",
    "version": 3
   },
   "file_extension": ".py",
   "mimetype": "text/x-python",
   "name": "python",
   "nbconvert_exporter": "python",
   "pygments_lexer": "ipython3",
   "version": "3.9.4"
  }
 },
 "nbformat": 4,
 "nbformat_minor": 2
}
