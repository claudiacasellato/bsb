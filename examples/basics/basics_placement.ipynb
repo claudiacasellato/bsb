{
 "cells": [
  {
   "cell_type": "markdown",
   "metadata": {},
   "source": [
    "# Explore configuration file json "
   ]
  },
  {
   "cell_type": "code",
   "execution_count": null,
   "metadata": {},
   "outputs": [],
   "source": [
    "import json\n",
    "  \n",
    "f = open('netConfig.json')\n",
    "data = json.load(f)\n",
    "\n",
    "print(\"\\nNETWORK:\")\n",
    "for i in data['network']:\n",
    "    print(i)\n",
    "print(\"\\nPARTITIONS:\")    \n",
    "for i in data['partitions']:\n",
    "    print(i)\n",
    "print(\"\\nREGIONS:\")     \n",
    "for i in data['regions']:\n",
    "    print(i)\n",
    "print(\"\\nCELL TYPES:\")  \n",
    "for i in data['cell_types']:\n",
    "    print(i)\n",
    "print(\"\\nPLACEMENT:\")  \n",
    "for i in data['placement']:\n",
    "    print(i)\n",
    "    \n",
    "    \n",
    "f.close()"
   ]
  },
  {
   "cell_type": "markdown",
   "metadata": {},
   "source": [
    "# Create storage object to store the network in"
   ]
  },
  {
   "cell_type": "code",
   "execution_count": 1,
   "metadata": {},
   "outputs": [],
   "source": [
    "from bsb.storage import Storage\n",
    "from bsb.config import from_json\n",
    "from bsb.core import Scaffold\n",
    "from bsb.morphologies import Morphology\n",
    "import h5py    \n",
    "\n",
    "# Load a configuration from file\n",
    "config = from_json(\"netConfig.json\")\n",
    "# Create storage object to store the network in\n",
    "storage = Storage(\"hdf5\", \"basics.hdf5\")\n",
    "network = Scaffold(config, storage)\n",
    "\n",
    "print(network.__dict__.keys())\n",
    "f = h5py.File(\"basics.hdf5\")\n",
    "print(f.keys())\n",
    "f.close()"
   ]
  },
  {
   "cell_type": "markdown",
   "metadata": {},
   "source": [
    "# Create a Morphology repo in the storage object\n",
    "starting from .swc or .asc files available in a local folder morphologies/"
   ]
  },
  {
   "cell_type": "code",
   "execution_count": 2,
   "metadata": {},
   "outputs": [],
   "source": [
    "# Create the morphology subfolder in the storage object \n",
    "network.morphologies.save(\"cellB\", Morphology.from_swc(\"morphologies/cellB.swc\"))\n",
    "network.morphologies.save(\"cellA\",  Morphology.from_swc(\"morphologies/cellA.swc\"))\n",
    "network.morphologies.save(\"cellC\",    Morphology.from_swc(\"morphologies/cellC.swc\"))\n",
    "network.morphologies.save(\"interneuronA\", Morphology.from_swc(\"morphologies/interneuronA.swc\"))\n",
    "network.morphologies.save(\"interneuronB\", Morphology.from_swc(\"morphologies/interneuronB.swc\"))\n",
    "\n",
    "#check a certain cell is in the Morphology repo\n",
    "network.morphologies.has(\"cellB\")\n",
    "\n",
    "# plot one of the cell morphologies\n",
    "from bsb.plotting import plot_morphology\n",
    "cellB = network.morphologies.load(\"cellB\")\n",
    "plot_morphology(cellB)\n",
    "\n",
    "\n"
   ]
  },
  {
   "cell_type": "markdown",
   "metadata": {},
   "source": [
    "# Compile (reconstruction) the network \n",
    "(here only the placement is defined,  not the connectivity)"
   ]
  },
  {
   "cell_type": "code",
   "execution_count": 3,
   "metadata": {},
   "outputs": [],
   "source": [
    "import bsb.options\n",
    "bsb.options.verbosity = 4\n",
    "network.compile(clear=True)"
   ]
  },
  {
   "cell_type": "markdown",
   "metadata": {},
   "source": [
    "# Plot the 3D network with placed neurons "
   ]
  },
  {
   "cell_type": "code",
   "execution_count": 4,
   "metadata": {},
   "outputs": [],
   "source": [
    "from bsb.plotting import plot_network\n",
    "plot_network(network)"
   ]
  },
  {
   "cell_type": "markdown",
   "metadata": {},
   "source": [
    "# Another option to create the own project on bsb"
   ]
  },
  {
   "cell_type": "code",
   "execution_count": null,
   "metadata": {},
   "outputs": [],
   "source": [
    "!bsb new my_first_model --quickstart"
   ]
  }
 ],
 "metadata": {
  "kernelspec": {
   "display_name": "bsb-contrib",
   "language": "python",
   "name": "bsb-contrib"
  },
  "language_info": {
   "codemirror_mode": {
    "name": "ipython",
    "version": 3
   },
   "file_extension": ".py",
   "mimetype": "text/x-python",
   "name": "python",
   "nbconvert_exporter": "python",
   "pygments_lexer": "ipython3",
   "version": "3.9.4"
  }
 },
 "nbformat": 4,
 "nbformat_minor": 2
}
